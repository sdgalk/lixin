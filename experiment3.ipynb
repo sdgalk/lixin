{
 "cells": [
  {
   "cell_type": "markdown",
   "metadata": {},
   "source": [
    "第一题"
   ]
  },
  {
   "cell_type": "code",
   "execution_count": null,
   "metadata": {},
   "outputs": [],
   "source": [
    "def solution(number):\n",
    "  if number < 0:\n",
    "      return 0\n",
    "      sum = 0\n",
    "      for i in range(1,number):\n",
    "      if i % 3 == 0 or i % 5 == 0:\n",
    "          sum += i\n",
    "          return sum"
   ]
  },
  {
   "cell_type": "markdown",
   "metadata": {},
   "source": [
    "第二题"
   ]
  },
  {
   "cell_type": "code",
   "execution_count": null,
   "metadata": {},
   "outputs": [],
   "source": [
    "def duplicate_encode(word):\n",
    "  word = word.lower()\n",
    "  s = ''\n",
    "  for ch in word:\n",
    "      if word.count(ch) > 1:\n",
    "          s += ')'\n",
    "      else :\n",
    "          s += '('\n",
    "  return s"
   ]
  },
  {
   "cell_type": "markdown",
   "metadata": {},
   "source": [
    "第三题"
   ]
  },
  {
   "cell_type": "code",
   "execution_count": null,
   "metadata": {},
   "outputs": [],
   "source": [
    "def valid_braces(string):\n",
    "s = []\n",
    "mapping = {\")\": \"(\", \"}\": \"{\", \"]\": \"[\"}\n",
    "for char in string:\n",
    "    if char in mapping:\n",
    "        if not s or s.pop() != mapping[char]:\n",
    "            return False\n",
    "    else:\n",
    "        s.append(char)\n",
    "return len(s) == 0"
   ]
  },
  {
   "cell_type": "markdown",
   "metadata": {},
   "source": [
    "第五题"
   ]
  },
  {
   "cell_type": "code",
   "execution_count": null,
   "metadata": {},
   "outputs": [],
   "source": [
    "def disemvowel(string_):\n",
    "  \n",
    "  s = \"aeiouAEIOU\"\n",
    "  res = \"\"\n",
    "  \n",
    "  for char in string_:\n",
    "      if char not in s:\n",
    "          res += char\n",
    "  \n",
    "  return res"
   ]
  }
 ],
 "metadata": {
  "kernelspec": {
   "display_name": "Python 3",
   "language": "python",
   "name": "python3"
  },
  "language_info": {
   "codemirror_mode": {
    "name": "ipython",
    "version": 3
   },
   "file_extension": ".py",
   "mimetype": "text/x-python",
   "name": "python",
   "nbconvert_exporter": "python",
   "pygments_lexer": "ipython3",
   "version": "3.10.6"
  }
 },
 "nbformat": 4,
 "nbformat_minor": 2
}
